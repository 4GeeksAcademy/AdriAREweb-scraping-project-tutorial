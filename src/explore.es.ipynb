{
    "cells": [
        {
            "cell_type": "markdown",
            "metadata": {},
            "source": [
                "# Explora aquí\n",
                "\n",
                "Se recomienda utilizar este cuaderno con fines de exploración."
            ]
        },
        {
            "cell_type": "code",
            "execution_count": 30,
            "metadata": {},
            "outputs": [
                {
                    "name": "stdout",
                    "output_type": "stream",
                    "text": [
                        "27\n",
                        "  Rank                 Song                 Artist(s) Streams (billions)  \\\n",
                        "0    1    \"Blinding Lights\"                The Weeknd              5.049   \n",
                        "1    2       \"Shape of You\"                Ed Sheeran              4.571   \n",
                        "2    3            \"Starboy\"  The Weeknd and Daft Punk              4.116   \n",
                        "3    4  \"Someone You Loved\"             Lewis Capaldi              4.069   \n",
                        "4    5    \"Sweater Weather\"         The Neighbourhood              4.054   \n",
                        "\n",
                        "        Release date Ref.  \n",
                        "0   29 November 2019  [1]  \n",
                        "1     6 January 2017  [2]  \n",
                        "2  21 September 2016  [3]  \n",
                        "3    8 November 2018  [4]  \n",
                        "4    3 December 2012  [5]  \n"
                    ]
                },
                {
                    "name": "stderr",
                    "output_type": "stream",
                    "text": [
                        "/tmp/ipykernel_3685/2801273749.py:19: FutureWarning: Passing literal html to 'read_html' is deprecated and will be removed in a future version. To read from a literal string, wrap it in a 'StringIO' object.\n",
                        "  table = pd.read_html(str(soup))\n"
                    ]
                },
                {
                    "ename": "TypeError",
                    "evalue": "Expected numeric dtype, got object instead.",
                    "output_type": "error",
                    "traceback": [
                        "\u001b[31m---------------------------------------------------------------------------\u001b[39m",
                        "\u001b[31mTypeError\u001b[39m                                 Traceback (most recent call last)",
                        "\u001b[36mCell\u001b[39m\u001b[36m \u001b[39m\u001b[32mIn[30]\u001b[39m\u001b[32m, line 26\u001b[39m\n\u001b[32m     23\u001b[39m df.head()\n\u001b[32m     25\u001b[39m \u001b[38;5;66;03m#PASO 4\u001b[39;00m\n\u001b[32m---> \u001b[39m\u001b[32m26\u001b[39m df[\u001b[33m'\u001b[39m\u001b[33mStreams (billions)\u001b[39m\u001b[33m'\u001b[39m] = \u001b[43mdf\u001b[49m\u001b[43m[\u001b[49m\u001b[33;43m'\u001b[39;49m\u001b[33;43mStreams (billions)\u001b[39;49m\u001b[33;43m'\u001b[39;49m\u001b[43m]\u001b[49m\u001b[43m.\u001b[49m\u001b[43mround\u001b[49m\u001b[43m(\u001b[49m\u001b[32;43m2\u001b[39;49m\u001b[43m)\u001b[49m\n\u001b[32m     27\u001b[39m df\n",
                        "\u001b[36mFile \u001b[39m\u001b[32m~/.local/lib/python3.11/site-packages/pandas/core/series.py:2821\u001b[39m, in \u001b[36mSeries.round\u001b[39m\u001b[34m(self, decimals, *args, **kwargs)\u001b[39m\n\u001b[32m   2819\u001b[39m nv.validate_round(args, kwargs)\n\u001b[32m   2820\u001b[39m \u001b[38;5;28;01mif\u001b[39;00m \u001b[38;5;28mself\u001b[39m.dtype == \u001b[33m\"\u001b[39m\u001b[33mobject\u001b[39m\u001b[33m\"\u001b[39m:\n\u001b[32m-> \u001b[39m\u001b[32m2821\u001b[39m     \u001b[38;5;28;01mraise\u001b[39;00m \u001b[38;5;167;01mTypeError\u001b[39;00m(\u001b[33m\"\u001b[39m\u001b[33mExpected numeric dtype, got object instead.\u001b[39m\u001b[33m\"\u001b[39m)\n\u001b[32m   2822\u001b[39m new_mgr = \u001b[38;5;28mself\u001b[39m._mgr.round(decimals=decimals, using_cow=using_copy_on_write())\n\u001b[32m   2823\u001b[39m \u001b[38;5;28;01mreturn\u001b[39;00m \u001b[38;5;28mself\u001b[39m._constructor_from_mgr(new_mgr, axes=new_mgr.axes).__finalize__(\n\u001b[32m   2824\u001b[39m     \u001b[38;5;28mself\u001b[39m, method=\u001b[33m\"\u001b[39m\u001b[33mround\u001b[39m\u001b[33m\"\u001b[39m\n\u001b[32m   2825\u001b[39m )\n",
                        "\u001b[31mTypeError\u001b[39m: Expected numeric dtype, got object instead."
                    ]
                }
            ],
            "source": [
                "import os\n",
                "from bs4 import BeautifulSoup\n",
                "import requests\n",
                "import time\n",
                "import sqlite3\n",
                "import matplotlib.pyplot as plt\n",
                "import seaborn as sns\n",
                "import pandas as pd\n",
                "\n",
                "#PASO 2\n",
                "header = {'User-Agent': 'my-app/0.01'}\n",
                "resource_url = \" https://en.wikipedia.org/wiki/List_of_Spotify_streaming_records\"\n",
                "response = requests.get(resource_url, time.sleep(3), headers=header)\n",
                "response\n",
                "\n",
                "#PASO 3\n",
                "if response: \n",
                "    soup = BeautifulSoup(response.text, 'html.parser')\n",
                "    table = pd.read_html(str(soup))\n",
                "    print(len(table)) \n",
                "    print(table[0].head())\n",
                "df = table[0]\n",
                "df.head()\n",
                "\n",
                "#PASO 4\n",
                "df['Streams (billions)'] = df['Streams (billions)'].round(2)\n",
                "df\n"
            ]
        }
    ],
    "metadata": {
        "kernelspec": {
            "display_name": "Python 3",
            "language": "python",
            "name": "python3"
        },
        "language_info": {
            "codemirror_mode": {
                "name": "ipython",
                "version": 3
            },
            "file_extension": ".py",
            "mimetype": "text/x-python",
            "name": "python",
            "nbconvert_exporter": "python",
            "pygments_lexer": "ipython3",
            "version": "3.11.4"
        },
        "orig_nbformat": 4
    },
    "nbformat": 4,
    "nbformat_minor": 2
}
